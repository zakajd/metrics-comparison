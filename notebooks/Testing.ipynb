{
 "cells": [
  {
   "cell_type": "code",
   "execution_count": 4,
   "metadata": {
    "ExecuteTime": {
     "end_time": "2020-04-05T18:25:33.288052Z",
     "start_time": "2020-04-05T18:25:32.331908Z"
    }
   },
   "outputs": [],
   "source": [
    "import os\n",
    "import random \n",
    "\n",
    "import numpy as np\n",
    "import torch\n",
    "import torch.nn as nn\n",
    "import torch.nn.functional as F\n",
    "from tqdm import tqdm\n",
    "from functools import partial\n",
    "import math\n",
    "# import heapq\n",
    "from scipy.io import wavfile\n",
    "from IPython import display\n",
    "\n",
    "import matplotlib.pyplot as plt \n",
    "from torchaudio.transforms import MelScale, Spectrogram, MelSpectrogram, InverseMelScale\n",
    "from torchaudio.functional import istft, griffinlim\n",
    "import torchaudio\n",
    "import librosa\n",
    "\n",
    "import sys\n",
    "sys.path.append(\"/home/zakirov/repoz/voice-transfer/\")\n",
    "\n",
    "\n",
    "from voice_transfer.audio import melspectrogram2wav\n",
    "\n",
    "# %load_ext autoreload\n",
    "# %autoreload 2"
   ]
  },
  {
   "cell_type": "code",
   "execution_count": null,
   "metadata": {
    "ExecuteTime": {
     "end_time": "2020-04-02T21:09:20.884649Z",
     "start_time": "2020-04-02T21:09:20.881267Z"
    }
   },
   "outputs": [],
   "source": [
    "#Hyperparameters\n",
    "\n",
    "params = {\n",
    "#     \"data_path\" : \"datasets/cmu_arctic\",\n",
    "    \"hop_size\" : 256,\n",
    "    \"window_size\" : 1024,\n",
    "    \"n_fft\" : 1024,\n",
    "    \"n_mels\" : 80,\n",
    "    \"sampling_rate\" : 22050,\n",
    "#     \"duration\" : 10.0,\n",
    "    \"ref_level_db\" : 20.,\n",
    "    \"min_level_db\" : -80.0, #-80\n",
    "    \"train_size\" : 0.8,\n",
    "    \"f_min\" : 0.0,\n",
    "    \"f_max\" : None,\n",
    "}"
   ]
  },
  {
   "cell_type": "code",
   "execution_count": 5,
   "metadata": {
    "ExecuteTime": {
     "end_time": "2020-04-05T18:25:46.170182Z",
     "start_time": "2020-04-05T18:25:46.123852Z"
    }
   },
   "outputs": [],
   "source": [
    "from voice_transfer.datasets import AudioMelDataset, get_dataloader, AudioDataset\n",
    "import torchvision\n",
    "from voice_transfer.modules import RandomCrop1D\n",
    "from torch.utils.data import Dataset, DataLoader, random_split\n",
    "from functools import reduce"
   ]
  },
  {
   "cell_type": "code",
   "execution_count": null,
   "metadata": {
    "ExecuteTime": {
     "end_time": "2020-04-02T21:09:57.913889Z",
     "start_time": "2020-04-02T21:09:57.896929Z"
    }
   },
   "outputs": [],
   "source": [
    "transforms = torchvision.transforms.Compose([\n",
    "    RandomCrop1D(size=50000),\n",
    "#     torchaudio.transforms.Fade(fade_in_len=10000, fade_out_len=10000, fade_shape='linear')\n",
    "])\n",
    "\n",
    "dataset = AudioDataset(\"datasets/cmu_arctic\", transforms, resample=True, sampling_rate=16000)\n",
    "# dataset = dataset_class(\"datasets/LJSpeech-1.1\", transforms, resample, sampling_rate, **kwargs)\n",
    "\n",
    "#     if \"vctk\" in datasets:\n",
    "#         dataset = dataset_class(\"datasets/VCTK-Corpus\", transforms, resample, sampling_rate, **kwargs)\n",
    "all_datasets=[]\n",
    "train_size=0.8\n",
    "train_length=int(len(dataset) * train_size)\n",
    "val_length=len(dataset) - train_length\n",
    "train_d, val_d = random_split(dataset, (train_length, val_length))\n",
    "all_datasets.append(train_d)\n",
    " \n",
    "# Concat all datasets into one\n",
    "all_datasets = reduce(lambda x, y: x + y, all_datasets)\n",
    "\n",
    "# without `drop_last` last batch consists of 1 element and BN fails TODO(zakajd): Remove this ???\n",
    "\n",
    "dataloader = DataLoader(\n",
    "    all_datasets, \n",
    "    batch_size=64, \n",
    "    shuffle=True, \n",
    "    num_workers=8, \n",
    "    drop_last=True, \n",
    "    pin_memory=True)"
   ]
  },
  {
   "cell_type": "code",
   "execution_count": null,
   "metadata": {
    "ExecuteTime": {
     "end_time": "2020-04-02T21:13:09.345773Z",
     "start_time": "2020-04-02T21:13:09.329448Z"
    }
   },
   "outputs": [],
   "source": [
    "transforms = torchvision.transforms.Compose([\n",
    "    RandomCrop1D(size=50000),\n",
    "#     torchaudio.transforms.Fade(fade_in_len=10000, fade_out_len=10000, fade_shape='linear')\n",
    "])\n",
    "dataloader = get_dataloader([\"arctic\"], transforms=transforms)"
   ]
  },
  {
   "cell_type": "code",
   "execution_count": null,
   "metadata": {
    "ExecuteTime": {
     "end_time": "2020-04-02T09:08:08.677806Z",
     "start_time": "2020-04-02T09:08:08.485733Z"
    }
   },
   "outputs": [],
   "source": [
    "waveform = dataset[1]\n",
    "# waveform = torch.ones((1, 50000)) - torch.randint(0, 2, (1, 50000))\n",
    "plt.plot(waveform.squeeze().numpy())"
   ]
  },
  {
   "cell_type": "code",
   "execution_count": null,
   "metadata": {
    "ExecuteTime": {
     "end_time": "2020-04-02T09:08:10.526736Z",
     "start_time": "2020-04-02T09:08:10.510142Z"
    }
   },
   "outputs": [],
   "source": [
    "# \"quarter_sine\", \"half_sine\", \"linear\", \"logarithmic\", \"exponential\"\n",
    "    \n",
    "fade = torchaudio.transforms.Fade(fade_in_len=2000, fade_out_len=2000, fade_shape='linear')"
   ]
  },
  {
   "cell_type": "code",
   "execution_count": null,
   "metadata": {
    "ExecuteTime": {
     "end_time": "2020-04-02T09:08:11.488635Z",
     "start_time": "2020-04-02T09:08:11.291501Z"
    }
   },
   "outputs": [],
   "source": [
    "faded = fade(waveform)\n",
    "plt.plot(faded.squeeze().numpy())"
   ]
  },
  {
   "cell_type": "code",
   "execution_count": null,
   "metadata": {
    "ExecuteTime": {
     "end_time": "2020-04-02T09:08:13.245545Z",
     "start_time": "2020-04-02T09:08:13.200015Z"
    }
   },
   "outputs": [],
   "source": [
    "display.display(display.Audio(waveform.numpy(), rate=params[\"sampling_rate\"]))\n",
    "display.display(display.Audio(faded.numpy(), rate=params[\"sampling_rate\"]))"
   ]
  },
  {
   "cell_type": "code",
   "execution_count": null,
   "metadata": {
    "ExecuteTime": {
     "end_time": "2020-04-01T11:45:08.346154Z",
     "start_time": "2020-04-01T11:45:08.299442Z"
    }
   },
   "outputs": [],
   "source": [
    "file_path = \"datasets/cmu_arctic/cmu_us_bdl_arctic/wav/\"\n",
    "file_path_other = \"datasets/cmu_arctic/cmu_us_clb_arctic/wav/\"\n",
    "\n",
    "file_name = random.choice(os.listdir(file_path))\n",
    "print(file_path + file_name)\n",
    "display.Audio(filename=file_path + file_name)"
   ]
  },
  {
   "cell_type": "code",
   "execution_count": null,
   "metadata": {
    "ExecuteTime": {
     "end_time": "2020-04-01T11:45:11.105056Z",
     "start_time": "2020-04-01T11:45:11.085025Z"
    }
   },
   "outputs": [],
   "source": [
    "print(file_path_other + file_name)\n",
    "display.Audio(filename=file_path_other + file_name)"
   ]
  },
  {
   "cell_type": "code",
   "execution_count": null,
   "metadata": {
    "ExecuteTime": {
     "end_time": "2020-04-01T11:45:12.899177Z",
     "start_time": "2020-04-01T11:45:12.688723Z"
    }
   },
   "outputs": [],
   "source": [
    "waveform, sample_rate = torchaudio.load(file_path + file_name, )\n",
    "print(\"Shape of waveform: {}\".format(waveform.size()))\n",
    "print(\"Sample rate of waveform: {}\".format(sample_rate))\n",
    "length = waveform.size()[1]\n",
    "plt.figure()\n",
    "plt.plot(waveform.t().numpy())"
   ]
  },
  {
   "cell_type": "code",
   "execution_count": 1,
   "metadata": {
    "ExecuteTime": {
     "end_time": "2020-04-05T18:24:48.823082Z",
     "start_time": "2020-04-05T18:24:48.820552Z"
    }
   },
   "outputs": [],
   "source": []
  },
  {
   "cell_type": "code",
   "execution_count": 11,
   "metadata": {
    "ExecuteTime": {
     "end_time": "2020-04-05T18:10:19.213778Z",
     "start_time": "2020-04-05T18:10:19.210688Z"
    }
   },
   "outputs": [
    {
     "data": {
      "text/plain": [
       "'/home/zakirov/repoz/voice-transfer'"
      ]
     },
     "execution_count": 11,
     "metadata": {},
     "output_type": "execute_result"
    }
   ],
   "source": []
  },
  {
   "cell_type": "code",
   "execution_count": 2,
   "metadata": {
    "ExecuteTime": {
     "end_time": "2020-04-05T18:24:50.356731Z",
     "start_time": "2020-04-05T18:24:50.354090Z"
    }
   },
   "outputs": [],
   "source": []
  },
  {
   "cell_type": "code",
   "execution_count": 3,
   "metadata": {
    "ExecuteTime": {
     "end_time": "2020-04-05T18:24:52.072097Z",
     "start_time": "2020-04-05T18:24:51.797315Z"
    }
   },
   "outputs": [],
   "source": [
    "from voice_transfer.audio import melspectrogram2wav"
   ]
  },
  {
   "cell_type": "code",
   "execution_count": null,
   "metadata": {},
   "outputs": [],
   "source": []
  }
 ],
 "metadata": {
  "kernelspec": {
   "display_name": "Python 3",
   "language": "python",
   "name": "python3"
  },
  "language_info": {
   "codemirror_mode": {
    "name": "ipython",
    "version": 3
   },
   "file_extension": ".py",
   "mimetype": "text/x-python",
   "name": "python",
   "nbconvert_exporter": "python",
   "pygments_lexer": "ipython3",
   "version": "3.6.9"
  }
 },
 "nbformat": 4,
 "nbformat_minor": 2
}
