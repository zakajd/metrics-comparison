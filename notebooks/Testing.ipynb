{
 "cells": [
  {
   "cell_type": "code",
   "execution_count": 69,
   "metadata": {
    "ExecuteTime": {
     "end_time": "2020-04-08T08:41:01.789887Z",
     "start_time": "2020-04-08T08:41:01.786110Z"
    }
   },
   "outputs": [],
   "source": [
    "import os\n",
    "import sys\n",
    "import random \n",
    "\n",
    "import cv2\n",
    "import numpy as np\n",
    "import torch\n",
    "import torch.nn as nn\n",
    "import torch.nn.functional as F\n",
    "import torchvision\n",
    "import torchvision.transforms as transforms\n",
    "from tqdm import tqdm\n",
    "from functools import partial\n",
    "import matplotlib.pyplot as plt \n",
    "\n",
    "sys.path.append(\"..\")\n",
    "\n",
    "from IPython import display\n",
    "\n",
    "# %load_ext autoreload\n",
    "# %autoreload 2"
   ]
  },
  {
   "cell_type": "markdown",
   "metadata": {},
   "source": [
    "## Download datasets"
   ]
  },
  {
   "cell_type": "code",
   "execution_count": 70,
   "metadata": {
    "ExecuteTime": {
     "end_time": "2020-04-08T08:41:06.734167Z",
     "start_time": "2020-04-08T08:41:04.420785Z"
    }
   },
   "outputs": [
    {
     "name": "stdout",
     "output_type": "stream",
     "text": [
      "Files already downloaded and verified\n",
      "Files already downloaded and verified\n"
     ]
    }
   ],
   "source": [
    "mnist = torchvision.datasets.MNIST(\"../datasets\", train=True, download=True)\n",
    "cifar10 = torchvision.datasets.CIFAR10(\"../datasets\", download=True)\n",
    "cifar100 = torchvision.datasets.CIFAR100(\"../datasets\", download=True)"
   ]
  },
  {
   "cell_type": "code",
   "execution_count": 4,
   "metadata": {
    "ExecuteTime": {
     "end_time": "2020-04-07T18:51:17.143923Z",
     "start_time": "2020-04-07T18:51:17.141218Z"
    }
   },
   "outputs": [],
   "source": [
    "# !wget http://cs231n.stanford.edu/tiny-imagenet-200.zip"
   ]
  },
  {
   "cell_type": "markdown",
   "metadata": {},
   "source": [
    "## Test"
   ]
  },
  {
   "cell_type": "code",
   "execution_count": 77,
   "metadata": {
    "ExecuteTime": {
     "end_time": "2020-04-08T08:41:52.790045Z",
     "start_time": "2020-04-08T08:41:51.819026Z"
    }
   },
   "outputs": [],
   "source": [
    "transform = transforms.Compose(\n",
    "    [transforms.ToTensor(),\n",
    "     transforms.Normalize((0.5, 0.5, 0.5), (0.5, 0.5, 0.5))\n",
    "    ])\n",
    "\n",
    "trainset = CIFAR10(root='../datasets', train=True,\n",
    "                                        download=False, transform=transform)\n",
    "trainloader = torch.utils.data.DataLoader(trainset, batch_size=4,\n",
    "                                          shuffle=True, num_workers=2)\n",
    "\n",
    "testset = CIFAR10(root='../datasets', train=False,\n",
    "                                       download=False, transform=transform)\n",
    "testloader = torch.utils.data.DataLoader(testset, batch_size=4,\n",
    "                                         shuffle=False, num_workers=2)\n",
    "\n",
    "classes = ('plane', 'car', 'bird', 'cat',\n",
    "           'deer', 'dog', 'frog', 'horse', 'ship', 'truck')"
   ]
  },
  {
   "cell_type": "code",
   "execution_count": 79,
   "metadata": {
    "ExecuteTime": {
     "end_time": "2020-04-08T09:13:14.595295Z",
     "start_time": "2020-04-08T09:13:14.541444Z"
    }
   },
   "outputs": [],
   "source": [
    "# get some random training images\n",
    "dataiter = iter(testloader)\n",
    "images, target = dataiter.next()"
   ]
  },
  {
   "cell_type": "code",
   "execution_count": 78,
   "metadata": {
    "ExecuteTime": {
     "end_time": "2020-04-08T08:41:57.871856Z",
     "start_time": "2020-04-08T08:41:57.798930Z"
    }
   },
   "outputs": [
    {
     "name": "stdout",
     "output_type": "stream",
     "text": [
      "tensor([[[[-0.5686, -0.5608, -0.5686,  ..., -0.6392, -0.6392, -0.6235],\n",
      "          [-0.5922, -0.5843, -0.5843,  ..., -0.6157, -0.6157, -0.6235],\n",
      "          [-0.5922, -0.5922, -0.5843,  ..., -0.6000, -0.6078, -0.6235],\n",
      "          ...,\n",
      "          [-0.0980, -0.0588, -0.0118,  ..., -0.0275, -0.0431, -0.0431],\n",
      "          [ 0.0039,  0.0275,  0.0353,  ..., -0.0039, -0.0275, -0.0431],\n",
      "          [ 0.1059,  0.1294,  0.1373,  ...,  0.0118, -0.0039, -0.0275]],\n",
      "\n",
      "         [[-0.5059, -0.4980, -0.5059,  ..., -0.5608, -0.5608, -0.5529],\n",
      "          [-0.5216, -0.5216, -0.5137,  ..., -0.5373, -0.5373, -0.5451],\n",
      "          [-0.5216, -0.5137, -0.5059,  ..., -0.5216, -0.5294, -0.5373],\n",
      "          ...,\n",
      "          [-0.0039,  0.0275,  0.0510,  ...,  0.0196,  0.0039,  0.0039],\n",
      "          [ 0.0353,  0.0588,  0.0588,  ...,  0.0275,  0.0039, -0.0118],\n",
      "          [ 0.1137,  0.1451,  0.1529,  ...,  0.0353,  0.0196, -0.0039]],\n",
      "\n",
      "         [[-0.2078, -0.2000, -0.2078,  ..., -0.3255, -0.3255, -0.3255],\n",
      "          [-0.2549, -0.2471, -0.2471,  ..., -0.3020, -0.3020, -0.3098],\n",
      "          [-0.2784, -0.2706, -0.2627,  ..., -0.2863, -0.2941, -0.2941],\n",
      "          ...,\n",
      "          [ 0.1137,  0.1529,  0.1843,  ...,  0.2000,  0.2000,  0.1843],\n",
      "          [ 0.2078,  0.2314,  0.2392,  ...,  0.1922,  0.1686,  0.1529],\n",
      "          [ 0.3098,  0.3333,  0.3490,  ...,  0.2078,  0.1843,  0.1608]]],\n",
      "\n",
      "\n",
      "        [[[-0.6235, -0.6314, -0.6235,  ..., -0.6235, -0.6549, -0.6471],\n",
      "          [-0.6706, -0.6627, -0.6235,  ..., -0.5922, -0.6235, -0.6549],\n",
      "          [-0.6078, -0.6549, -0.6314,  ..., -0.5922, -0.5922, -0.5922],\n",
      "          ...,\n",
      "          [-0.2392, -0.2078, -0.0745,  ...,  0.1137,  0.2000,  0.1686],\n",
      "          [-0.1451, -0.0745, -0.0667,  ...,  0.1608,  0.2157,  0.2000],\n",
      "          [-0.2314, -0.1922, -0.2627,  ...,  0.1451,  0.1843,  0.1686]],\n",
      "\n",
      "         [[-0.5529, -0.5922, -0.5608,  ..., -0.5843, -0.6157, -0.6078],\n",
      "          [-0.5843, -0.6157, -0.5608,  ..., -0.5529, -0.5843, -0.6078],\n",
      "          [-0.5137, -0.6000, -0.5529,  ..., -0.5294, -0.5294, -0.5294],\n",
      "          ...,\n",
      "          [ 0.3098,  0.2941,  0.4353,  ...,  0.5373,  0.6235,  0.5922],\n",
      "          [ 0.4510,  0.4667,  0.4745,  ...,  0.5922,  0.6471,  0.6392],\n",
      "          [ 0.1922,  0.1922,  0.1373,  ...,  0.5922,  0.6392,  0.6314]],\n",
      "\n",
      "         [[-0.6000, -0.6157, -0.6157,  ..., -0.6000, -0.6314, -0.6235],\n",
      "          [-0.6314, -0.6392, -0.6157,  ..., -0.5765, -0.6078, -0.6314],\n",
      "          [-0.5608, -0.6235, -0.6078,  ..., -0.5765, -0.5765, -0.5765],\n",
      "          ...,\n",
      "          [ 0.2549,  0.2706,  0.4588,  ...,  0.7412,  0.8196,  0.7647],\n",
      "          [ 0.4118,  0.4588,  0.5216,  ...,  0.7961,  0.8431,  0.8196],\n",
      "          [ 0.2157,  0.2314,  0.1843,  ...,  0.7961,  0.8196,  0.7961]]],\n",
      "\n",
      "\n",
      "        [[[-0.7647, -0.7020, -0.6784,  ...,  0.2549,  0.2627,  0.2784],\n",
      "          [-0.8118, -0.7255, -0.7176,  ...,  0.1922,  0.2157,  0.2235],\n",
      "          [-0.5608, -0.3647, -0.5608,  ...,  0.1294,  0.1608,  0.1765],\n",
      "          ...,\n",
      "          [ 0.0824,  0.0275,  0.0902,  ...,  0.2941,  0.3176,  0.3176],\n",
      "          [ 0.0275, -0.0039,  0.0745,  ...,  0.3176,  0.3412,  0.3333],\n",
      "          [ 0.0431,  0.0275,  0.1137,  ...,  0.3098,  0.3176,  0.3020]],\n",
      "\n",
      "         [[-0.6627, -0.6000, -0.5765,  ...,  0.3961,  0.4118,  0.4275],\n",
      "          [-0.6471, -0.5608, -0.5529,  ...,  0.3961,  0.4196,  0.4275],\n",
      "          [-0.3569, -0.1686, -0.3647,  ...,  0.3647,  0.3882,  0.4118],\n",
      "          ...,\n",
      "          [ 0.1843,  0.1373,  0.1686,  ...,  0.4431,  0.4510,  0.4667],\n",
      "          [ 0.1686,  0.1294,  0.1529,  ...,  0.4667,  0.4745,  0.4667],\n",
      "          [ 0.1765,  0.1608,  0.1922,  ...,  0.4510,  0.4510,  0.4510]],\n",
      "\n",
      "         [[-0.5137, -0.4510, -0.4275,  ...,  0.5059,  0.5216,  0.5373],\n",
      "          [-0.4980, -0.4196, -0.4118,  ...,  0.5137,  0.5373,  0.5451],\n",
      "          [-0.2157, -0.0353, -0.2314,  ...,  0.4980,  0.5216,  0.5451],\n",
      "          ...,\n",
      "          [ 0.3647,  0.3255,  0.3412,  ...,  0.6392,  0.6235,  0.6471],\n",
      "          [ 0.3569,  0.3490,  0.3412,  ...,  0.6314,  0.6392,  0.6314],\n",
      "          [ 0.3647,  0.3725,  0.3804,  ...,  0.6157,  0.6157,  0.6157]]],\n",
      "\n",
      "\n",
      "        [[[-0.6314, -0.5451, -0.7333,  ..., -0.4431,  0.3098,  0.0039],\n",
      "          [-0.6471, -0.2000, -0.5373,  ..., -0.3333,  0.3804,  0.0588],\n",
      "          [-0.8196, -0.8667, -0.6627,  ...,  0.1765,  0.1529, -0.3098],\n",
      "          ...,\n",
      "          [ 0.0902,  0.0588,  0.0431,  ..., -0.1765, -0.1608, -0.1529],\n",
      "          [ 0.1216,  0.1451,  0.1059,  ..., -0.0667, -0.0510, -0.0510],\n",
      "          [ 0.1529,  0.1451,  0.1451,  ...,  0.0588,  0.0588,  0.0510]],\n",
      "\n",
      "         [[-0.6314, -0.5451, -0.7333,  ..., -0.4431,  0.3098,  0.0039],\n",
      "          [-0.6471, -0.2000, -0.5373,  ..., -0.3333,  0.3804,  0.0588],\n",
      "          [-0.8196, -0.8667, -0.6549,  ...,  0.1765,  0.1529, -0.3098],\n",
      "          ...,\n",
      "          [ 0.0902,  0.0588,  0.0431,  ..., -0.1765, -0.1608, -0.1529],\n",
      "          [ 0.1216,  0.1451,  0.1059,  ..., -0.0667, -0.0510, -0.0510],\n",
      "          [ 0.1529,  0.1451,  0.1451,  ...,  0.0588,  0.0588,  0.0510]],\n",
      "\n",
      "         [[-0.6314, -0.5451, -0.7333,  ..., -0.4431,  0.3098,  0.0039],\n",
      "          [-0.6471, -0.2000, -0.5373,  ..., -0.3333,  0.3804,  0.0588],\n",
      "          [-0.8196, -0.8667, -0.6549,  ...,  0.1765,  0.1529, -0.3098],\n",
      "          ...,\n",
      "          [ 0.0902,  0.0588,  0.0431,  ..., -0.1765, -0.1608, -0.1529],\n",
      "          [ 0.1216,  0.1451,  0.1059,  ..., -0.0667, -0.0510, -0.0510],\n",
      "          [ 0.1529,  0.1451,  0.1451,  ...,  0.0588,  0.0588,  0.0510]]]])\n"
     ]
    }
   ],
   "source": [
    "import matplotlib.pyplot as plt\n",
    "import numpy as np\n",
    "\n",
    "# functions to show an image\n",
    "\n",
    "\n",
    "def imshow(img):\n",
    "    img = img / 2 + 0.5     # unnormalize\n",
    "    npimg = img.numpy()\n",
    "    npimg = img.numpy()\n",
    "    plt.imshow(np.transpose(npimg, (1, 2, 0)))\n",
    "    plt.show()\n",
    "\n",
    "\n",
    "# get some random training images\n",
    "dataiter = iter(trainloader)\n",
    "images, target = dataiter.next()\n",
    "\n",
    "# show images\n",
    "print(images)\n",
    "# imshow(torchvision.utils.make_grid(images))"
   ]
  },
  {
   "cell_type": "code",
   "execution_count": 68,
   "metadata": {
    "ExecuteTime": {
     "end_time": "2020-04-08T08:27:12.518995Z",
     "start_time": "2020-04-08T08:27:12.418815Z"
    }
   },
   "outputs": [
    {
     "data": {
      "image/png": "[encoded data removed]",
      "text/plain": [
       "<Figure size 432x288 with 1 Axes>"
      ]
     },
     "metadata": {
      "needs_background": "light"
     },
     "output_type": "display_data"
    }
   ],
   "source": [
    "imshow(torchvision.utils.make_grid(target))"
   ]
  },
  {
   "cell_type": "code",
   "execution_count": null,
   "metadata": {},
   "outputs": [],
   "source": []
  }
 ],
 "metadata": {
  "kernelspec": {
   "display_name": "Python 3",
   "language": "python",
   "name": "python3"
  },
  "language_info": {
   "codemirror_mode": {
    "name": "ipython",
    "version": 3
   },
   "file_extension": ".py",
   "mimetype": "text/x-python",
   "name": "python",
   "nbconvert_exporter": "python",
   "pygments_lexer": "ipython3",
   "version": "3.6.9"
  }
 },
 "nbformat": 4,
 "nbformat_minor": 2
}
