{
 "cells": [
  {
   "cell_type": "markdown",
   "metadata": {},
   "source": [
    "Training GAN's experiments:\n",
    "\n",
    "GAN runner\n",
    "GAN callback to support custom metrics\n",
    "\n",
    "GAN model (from Skoltech DL course)\n",
    "\n"
   ]
  },
  {
   "cell_type": "code",
   "execution_count": 9,
   "metadata": {
    "ExecuteTime": {
     "end_time": "2020-07-15T13:45:04.793134Z",
     "start_time": "2020-07-15T13:45:03.569529Z"
    }
   },
   "outputs": [],
   "source": [
    "import torch\n",
    "import piq"
   ]
  },
  {
   "cell_type": "code",
   "execution_count": 2,
   "metadata": {
    "ExecuteTime": {
     "end_time": "2020-07-15T08:53:33.248382Z",
     "start_time": "2020-07-15T08:53:33.245013Z"
    }
   },
   "outputs": [
    {
     "data": {
      "text/plain": [
       "'model_3_0.23.chpn'"
      ]
     },
     "execution_count": 2,
     "metadata": {},
     "output_type": "execute_result"
    }
   ],
   "source": [
    "a = \"model_{ep}_{metric:.2f}.chpn\"\n",
    "a.format(ep=3, metric=0.234556436)"
   ]
  },
  {
   "cell_type": "code",
   "execution_count": 10,
   "metadata": {
    "ExecuteTime": {
     "end_time": "2020-07-15T14:01:44.884482Z",
     "start_time": "2020-07-15T14:01:44.881578Z"
    }
   },
   "outputs": [],
   "source": [
    "class BRISQUEWrapper(piq.BRISQUELoss):\n",
    "    def forward(self, prediction: torch.Tensor, target: torch.Tensor) -> torch.Tensor:\n",
    "        return super().forward(prediction)"
   ]
  },
  {
   "cell_type": "code",
   "execution_count": 14,
   "metadata": {
    "ExecuteTime": {
     "end_time": "2020-07-15T14:02:46.744191Z",
     "start_time": "2020-07-15T14:02:46.416599Z"
    }
   },
   "outputs": [
    {
     "data": {
      "text/plain": [
       "tensor(120.5809)"
      ]
     },
     "execution_count": 14,
     "metadata": {},
     "output_type": "execute_result"
    }
   ],
   "source": [
    "brisque = BRISQUEWrapper()\n",
    "\n",
    "prediction = torch.rand(3, 3, 128, 128)\n",
    "target = torch.rand(3, 3, 128, 128)\n",
    "brisque(prediction, target)"
   ]
  },
  {
   "cell_type": "code",
   "execution_count": 4,
   "metadata": {
    "ExecuteTime": {
     "end_time": "2020-07-14T08:39:49.121725Z",
     "start_time": "2020-07-14T08:39:49.117641Z"
    }
   },
   "outputs": [
    {
     "data": {
      "text/plain": [
       "False"
      ]
     },
     "execution_count": 4,
     "metadata": {},
     "output_type": "execute_result"
    }
   ],
   "source": [
    "a = [1, 2]\n",
    "b = [3, 4]\n",
    "c = [5, 6, 4]\n",
    "len(a) == len(b) == len(c) == 2"
   ]
  },
  {
   "cell_type": "code",
   "execution_count": 21,
   "metadata": {
    "ExecuteTime": {
     "end_time": "2020-07-14T12:59:49.074029Z",
     "start_time": "2020-07-14T12:59:49.069789Z"
    }
   },
   "outputs": [
    {
     "data": {
      "text/plain": [
       "'a|b'"
      ]
     },
     "execution_count": 21,
     "metadata": {},
     "output_type": "execute_result"
    }
   ],
   "source": [
    "\"|\".join([\"a\", \"b\"])\n"
   ]
  },
  {
   "cell_type": "code",
   "execution_count": 14,
   "metadata": {
    "ExecuteTime": {
     "end_time": "2020-07-14T11:47:41.686176Z",
     "start_time": "2020-07-14T11:47:41.674246Z"
    }
   },
   "outputs": [
    {
     "data": {
      "text/plain": [
       "[[{'ep': [0, 8], 'lr': [0, 0.1], 'mom': [0.9], 'mode': 'linear'},\n",
       "  {'ep': [8, 24], 'lr': [0.1, 0.01], 'mode': 'cos', 'mom': []},\n",
       "  {'ep': [24, 30], 'lr': [0.001], 'mom': []}]]"
      ]
     },
     "execution_count": 14,
     "metadata": {},
     "output_type": "execute_result"
    }
   ],
   "source": [
    "from pytorch_tools.utils.misc import listify\n",
    "PHASES = {\n",
    "    \"generator\": \n",
    "        [{\"ep\":[0,8],  \"lr\":[0,0.1], \"mom\":0.9, },\n",
    "        {\"ep\":[8,24], \"lr\":[0.1, 0.01], \"mode\":\"cos\"},\n",
    "        {'ep':[24, 30], \"lr\": 0.001}],\n",
    "    \"discriminator\": \n",
    "        [{\"ep\":[0,8],  \"lr\":[0,0.1], \"mom\":0.9, },\n",
    "        {\"ep\":[8,24], \"lr\":[0.1, 0.01], \"mode\":\"cos\"},\n",
    "        {'ep':[24, 30], \"lr\": 0.001}],\n",
    "}\n",
    "\n",
    "def _format_phase(phase):\n",
    "    phase[\"ep\"] = listify(phase[\"ep\"])\n",
    "    phase[\"lr\"] = listify(phase[\"lr\"])\n",
    "    phase[\"mom\"] = listify(phase.get(\"mom\", None))  # optional\n",
    "    if len(phase[\"lr\"]) == 2 or len(phase[\"mom\"]) == 2:\n",
    "        phase[\"mode\"] = phase.get(\"mode\", \"linear\")\n",
    "        assert len(phase[\"ep\"]) == 2, \"Linear learning rates must contain end epoch\"\n",
    "    return phase\n",
    "\n",
    "# [_format_phase(p) for p in PHASES[\"generator\"]]\n",
    "list(map(_format_phase, PHASES[\"generator\"]))\n"
   ]
  },
  {
   "cell_type": "code",
   "execution_count": 16,
   "metadata": {
    "ExecuteTime": {
     "end_time": "2020-07-14T11:50:27.443418Z",
     "start_time": "2020-07-14T11:50:27.439726Z"
    }
   },
   "outputs": [
    {
     "data": {
      "text/plain": [
       "{'a': None, 'b': None}"
      ]
     },
     "execution_count": 16,
     "metadata": {},
     "output_type": "execute_result"
    }
   ],
   "source": [
    "NAMES = ['a', 'b']\n",
    "\n",
    "c = \n",
    "c"
   ]
  }
 ],
 "metadata": {
  "kernelspec": {
   "display_name": "Python 3",
   "language": "python",
   "name": "python3"
  },
  "language_info": {
   "codemirror_mode": {
    "name": "ipython",
    "version": 3
   },
   "file_extension": ".py",
   "mimetype": "text/x-python",
   "name": "python",
   "nbconvert_exporter": "python",
   "pygments_lexer": "ipython3",
   "version": "3.6.9"
  }
 },
 "nbformat": 4,
 "nbformat_minor": 2
}
