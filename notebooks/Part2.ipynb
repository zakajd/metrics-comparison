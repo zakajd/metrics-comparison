{
 "cells": [
  {
   "cell_type": "markdown",
   "metadata": {},
   "source": [
    "Training GAN's experiments:\n",
    "\n",
    "GAN runner\n",
    "GAN callback to support custom metrics\n",
    "\n",
    "GAN model (from Skoltech DL course)\n",
    "\n"
   ]
  },
  {
   "cell_type": "code",
   "execution_count": 9,
   "metadata": {
    "ExecuteTime": {
     "end_time": "2020-07-15T13:45:04.793134Z",
     "start_time": "2020-07-15T13:45:03.569529Z"
    }
   },
   "outputs": [],
   "source": [
    "import torch\n",
    "import piq"
   ]
  },
  {
   "cell_type": "code",
   "execution_count": 2,
   "metadata": {
    "ExecuteTime": {
     "end_time": "2020-07-15T08:53:33.248382Z",
     "start_time": "2020-07-15T08:53:33.245013Z"
    }
   },
   "outputs": [
    {
     "data": {
      "text/plain": [
       "'model_3_0.23.chpn'"
      ]
     },
     "execution_count": 2,
     "metadata": {},
     "output_type": "execute_result"
    }
   ],
   "source": [
    "a = \"model_{ep}_{metric:.2f}.chpn\"\n",
    "a.format(ep=3, metric=0.234556436)"
   ]
  },
  {
   "cell_type": "code",
   "execution_count": 14,
   "metadata": {
    "ExecuteTime": {
     "end_time": "2020-07-20T09:34:15.745985Z",
     "start_time": "2020-07-20T09:34:15.743069Z"
    }
   },
   "outputs": [],
   "source": [
    "from piq import fsim, FSIMLoss\n",
    "FSIMLoss()\n"
   ]
  },
  {
   "cell_type": "code",
   "execution_count": 13,
   "metadata": {
    "ExecuteTime": {
     "end_time": "2020-07-20T08:18:07.067688Z",
     "start_time": "2020-07-20T08:18:07.063531Z"
    }
   },
   "outputs": [
    {
     "ename": "SyntaxError",
     "evalue": "invalid syntax (<ipython-input-13-762d806b0f6f>, line 13)",
     "output_type": "error",
     "traceback": [
      "\u001b[0;36m  File \u001b[0;32m\"<ipython-input-13-762d806b0f6f>\"\u001b[0;36m, line \u001b[0;32m13\u001b[0m\n\u001b[0;31m    [m.name=n for (m, n) in zip(metrics, metric_names)]\u001b[0m\n\u001b[0m           ^\u001b[0m\n\u001b[0;31mSyntaxError\u001b[0m\u001b[0;31m:\u001b[0m invalid syntax\n"
     ]
    }
   ],
   "source": [
    "class A:\n",
    "    _folder = \"A\"\n",
    "    def forward(self, i):\n",
    "        return self._folder + str(i)\n",
    "\n",
    "metrics = [A(), A(), A(), A()]\n",
    "metric_names = [\"A\", \"a\", \"AA\", \"aa\"]\n",
    "\n",
    "for metric, name in zip(metrics, metric_names):\n",
    "    metric.name = name\n",
    "    \n",
    "\n",
    "[m.name=n for (m, n) in zip(metrics, metric_names)]\n",
    "metrics[0].name"
   ]
  },
  {
   "cell_type": "code",
   "execution_count": 5,
   "metadata": {
    "ExecuteTime": {
     "end_time": "2020-07-20T07:32:54.274125Z",
     "start_time": "2020-07-20T07:32:54.268974Z"
    }
   },
   "outputs": [
    {
     "data": {
      "text/plain": [
       "('A3', 'B4')"
      ]
     },
     "execution_count": 5,
     "metadata": {},
     "output_type": "execute_result"
    }
   ],
   "source": [
    "class A:\n",
    "    _folder = \"A\"\n",
    "    def forward(self, i):\n",
    "        return self._folder + str(i)\n",
    "    \n",
    "class B(A):\n",
    "    _folder = \"B\"\n",
    "    def forward(self, i):\n",
    "        res = super().forward(i)\n",
    "        return res\n",
    "\n",
    "a = A()\n",
    "b = B()\n",
    "a.forward(3), b.forward(4)"
   ]
  },
  {
   "cell_type": "code",
   "execution_count": 14,
   "metadata": {
    "ExecuteTime": {
     "end_time": "2020-07-15T14:02:46.744191Z",
     "start_time": "2020-07-15T14:02:46.416599Z"
    }
   },
   "outputs": [
    {
     "data": {
      "text/plain": [
       "tensor(120.5809)"
      ]
     },
     "execution_count": 14,
     "metadata": {},
     "output_type": "execute_result"
    }
   ],
   "source": []
  },
  {
   "cell_type": "code",
   "execution_count": 4,
   "metadata": {
    "ExecuteTime": {
     "end_time": "2020-07-14T08:39:49.121725Z",
     "start_time": "2020-07-14T08:39:49.117641Z"
    }
   },
   "outputs": [
    {
     "data": {
      "text/plain": [
       "False"
      ]
     },
     "execution_count": 4,
     "metadata": {},
     "output_type": "execute_result"
    }
   ],
   "source": [
    "a = [1, 2]\n",
    "b = [3, 4]\n",
    "c = [5, 6, 4]\n",
    "len(a) == len(b) == len(c) == 2"
   ]
  },
  {
   "cell_type": "code",
   "execution_count": 21,
   "metadata": {
    "ExecuteTime": {
     "end_time": "2020-07-14T12:59:49.074029Z",
     "start_time": "2020-07-14T12:59:49.069789Z"
    }
   },
   "outputs": [
    {
     "data": {
      "text/plain": [
       "'a|b'"
      ]
     },
     "execution_count": 21,
     "metadata": {},
     "output_type": "execute_result"
    }
   ],
   "source": [
    "\"|\".join([\"a\", \"b\"])\n"
   ]
  },
  {
   "cell_type": "code",
   "execution_count": 14,
   "metadata": {
    "ExecuteTime": {
     "end_time": "2020-07-14T11:47:41.686176Z",
     "start_time": "2020-07-14T11:47:41.674246Z"
    }
   },
   "outputs": [
    {
     "data": {
      "text/plain": [
       "[[{'ep': [0, 8], 'lr': [0, 0.1], 'mom': [0.9], 'mode': 'linear'},\n",
       "  {'ep': [8, 24], 'lr': [0.1, 0.01], 'mode': 'cos', 'mom': []},\n",
       "  {'ep': [24, 30], 'lr': [0.001], 'mom': []}]]"
      ]
     },
     "execution_count": 14,
     "metadata": {},
     "output_type": "execute_result"
    }
   ],
   "source": [
    "from pytorch_tools.utils.misc import listify\n",
    "PHASES = {\n",
    "    \"generator\": \n",
    "        [{\"ep\":[0,8],  \"lr\":[0,0.1], \"mom\":0.9, },\n",
    "        {\"ep\":[8,24], \"lr\":[0.1, 0.01], \"mode\":\"cos\"},\n",
    "        {'ep':[24, 30], \"lr\": 0.001}],\n",
    "    \"discriminator\": \n",
    "        [{\"ep\":[0,8],  \"lr\":[0,0.1], \"mom\":0.9, },\n",
    "        {\"ep\":[8,24], \"lr\":[0.1, 0.01], \"mode\":\"cos\"},\n",
    "        {'ep':[24, 30], \"lr\": 0.001}],\n",
    "}\n",
    "\n",
    "def _format_phase(phase):\n",
    "    phase[\"ep\"] = listify(phase[\"ep\"])\n",
    "    phase[\"lr\"] = listify(phase[\"lr\"])\n",
    "    phase[\"mom\"] = listify(phase.get(\"mom\", None))  # optional\n",
    "    if len(phase[\"lr\"]) == 2 or len(phase[\"mom\"]) == 2:\n",
    "        phase[\"mode\"] = phase.get(\"mode\", \"linear\")\n",
    "        assert len(phase[\"ep\"]) == 2, \"Linear learning rates must contain end epoch\"\n",
    "    return phase\n",
    "\n",
    "# [_format_phase(p) for p in PHASES[\"generator\"]]\n",
    "list(map(_format_phase, PHASES[\"generator\"]))\n"
   ]
  },
  {
   "cell_type": "code",
   "execution_count": 15,
   "metadata": {
    "ExecuteTime": {
     "end_time": "2020-07-16T07:33:27.838433Z",
     "start_time": "2020-07-16T07:33:27.833360Z"
    }
   },
   "outputs": [
    {
     "name": "stdout",
     "output_type": "stream",
     "text": [
      "torch.Size([30, 256]) torch.Size([20, 256])\n"
     ]
    }
   ],
   "source": [
    "feature = torch.rand(10, 256)\n",
    "prediction_features = [feature, feature, feature]\n",
    "target_features = [feature, feature]\n",
    "\n",
    "prediction_features = torch.cat(prediction_features, dim=0)\n",
    "target_features = torch.cat(target_features, dim=0)\n",
    "\n",
    "print(prediction_features.shape, target_features.shape)"
   ]
  },
  {
   "cell_type": "code",
   "execution_count": 16,
   "metadata": {
    "ExecuteTime": {
     "end_time": "2020-07-14T11:50:27.443418Z",
     "start_time": "2020-07-14T11:50:27.439726Z"
    }
   },
   "outputs": [
    {
     "data": {
      "text/plain": [
       "{'a': None, 'b': None}"
      ]
     },
     "execution_count": 16,
     "metadata": {},
     "output_type": "execute_result"
    }
   ],
   "source": [
    "NAMES = ['a', 'b']\n",
    "\n",
    "c = \n",
    "c"
   ]
  }
 ],
 "metadata": {
  "kernelspec": {
   "display_name": "Python 3",
   "language": "python",
   "name": "python3"
  },
  "language_info": {
   "codemirror_mode": {
    "name": "ipython",
    "version": 3
   },
   "file_extension": ".py",
   "mimetype": "text/x-python",
   "name": "python",
   "nbconvert_exporter": "python",
   "pygments_lexer": "ipython3",
   "version": "3.6.9"
  }
 },
 "nbformat": 4,
 "nbformat_minor": 2
}
