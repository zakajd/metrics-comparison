{
 "cells": [
  {
   "cell_type": "markdown",
   "metadata": {
    "ExecuteTime": {
     "end_time": "2020-07-20T12:46:21.785878Z",
     "start_time": "2020-07-20T12:46:21.783517Z"
    }
   },
   "source": [
    "# Imports"
   ]
  },
  {
   "cell_type": "code",
   "execution_count": 1,
   "metadata": {
    "ExecuteTime": {
     "end_time": "2020-07-21T13:46:35.378838Z",
     "start_time": "2020-07-21T13:46:34.179230Z"
    }
   },
   "outputs": [],
   "source": [
    "# General imports\n",
    "import os\n",
    "import sys\n",
    "import random \n",
    "import functools\n",
    "\n",
    "import cv2\n",
    "import piq\n",
    "import numpy as np\n",
    "import pandas as pd\n",
    "import torch\n",
    "import torch.nn as nn\n",
    "import torchvision\n",
    "import torchvision.transforms as transforms\n",
    "from tqdm.auto import tqdm\n",
    "import matplotlib.pyplot as plt \n",
    "import albumentations as albu\n",
    "import albumentations.pytorch as albu_pt"
   ]
  },
  {
   "cell_type": "code",
   "execution_count": 2,
   "metadata": {
    "ExecuteTime": {
     "end_time": "2020-07-21T13:46:35.386470Z",
     "start_time": "2020-07-21T13:46:35.380605Z"
    }
   },
   "outputs": [
    {
     "data": {
      "text/html": [
       "<style>.container {width:90% !important;}</style>"
      ],
      "text/plain": [
       "<IPython.core.display.HTML object>"
      ]
     },
     "metadata": {},
     "output_type": "display_data"
    }
   ],
   "source": [
    "from IPython.core.display import display, HTML\n",
    "display(HTML(\"<style>.container {width:90% !important;}</style>\"))\n",
    "\n",
    "# Fix to be able to import python modules inside a notebook\n",
    "os.chdir('..')\n",
    "\n",
    "# Useful extensions\n",
    "# %load_ext watermark\n",
    "# %watermark -v -n -m -p numpy,torch,albumentations,photosynthesis_metrics\n",
    "\n",
    "# %load_ext autoreload\n",
    "# %autoreload 2\n",
    "\n",
    "# Nice plot formating\n",
    "%matplotlib inline"
   ]
  },
  {
   "cell_type": "code",
   "execution_count": 3,
   "metadata": {
    "ExecuteTime": {
     "end_time": "2020-07-21T13:46:35.840053Z",
     "start_time": "2020-07-21T13:46:35.406980Z"
    }
   },
   "outputs": [
    {
     "name": "stdout",
     "output_type": "stream",
     "text": [
      "configs  logs\t   models     old_logs\t reports\t   src\t  train.py\r\n",
      "data\t Makefile  notebooks  README.md  requirements.txt  tests  WORKPLAN.md\r\n"
     ]
    }
   ],
   "source": [
    "!ls"
   ]
  },
  {
   "cell_type": "markdown",
   "metadata": {},
   "source": [
    "Training GAN's experiments:\n",
    "\n",
    "GAN runner\n",
    "GAN callback to support custom metrics\n",
    "\n",
    "GAN model (from Skoltech DL course)\n",
    "\n"
   ]
  },
  {
   "cell_type": "code",
   "execution_count": 9,
   "metadata": {
    "ExecuteTime": {
     "end_time": "2020-07-20T12:50:00.772565Z",
     "start_time": "2020-07-20T12:50:00.757980Z"
    }
   },
   "outputs": [
    {
     "ename": "TypeError",
     "evalue": "_get_lr_mom() missing 2 required positional arguments: 'phase' and 'batch_curr'",
     "output_type": "error",
     "traceback": [
      "\u001b[0;31m---------------------------------------------------------------------------\u001b[0m",
      "\u001b[0;31mTypeError\u001b[0m                                 Traceback (most recent call last)",
      "\u001b[0;32m<ipython-input-9-4dd036a9dc6e>\u001b[0m in \u001b[0;36m<module>\u001b[0;34m\u001b[0m\n\u001b[1;32m     16\u001b[0m \u001b[0;31m# sheduler.phases, sheduler.phase, sheduler.tot_epochs\u001b[0m\u001b[0;34m\u001b[0m\u001b[0;34m\u001b[0m\u001b[0;34m\u001b[0m\u001b[0m\n\u001b[1;32m     17\u001b[0m \u001b[0;34m\u001b[0m\u001b[0m\n\u001b[0;32m---> 18\u001b[0;31m \u001b[0msheduler\u001b[0m\u001b[0;34m.\u001b[0m\u001b[0m_get_lr_mom\u001b[0m\u001b[0;34m(\u001b[0m\u001b[0;34m)\u001b[0m\u001b[0;34m\u001b[0m\u001b[0;34m\u001b[0m\u001b[0m\n\u001b[0m",
      "\u001b[0;31mTypeError\u001b[0m: _get_lr_mom() missing 2 required positional arguments: 'phase' and 'batch_curr'"
     ]
    }
   ],
   "source": [
    "import src.trainer.callbacks as clbs\n",
    "\n",
    "phases = {\n",
    "  \"generator\": [\n",
    "    {\"ep\":[0,8],  \"lr\":[0,0.1], \"mom\":0.9, },\n",
    "    {\"ep\":[8,24], \"lr\":[0.1, 0.01], \"mode\":\"cos\"},\n",
    "    {'ep':[24, 30], \"lr\": 0.001}],\n",
    "  \"discriminator\": [\n",
    "    {\"ep\":[0,8],  \"lr\":[0,0.1], \"mom\":0.9, },\n",
    "    {\"ep\":[8,24], \"lr\":[0.1, 0.01], \"mode\":\"cos\"},\n",
    "    {'ep':[24, 30], \"lr\": 0.001}],\n",
    "}\n",
    "\n",
    "sheduler = clbs.PhasesScheduler(phases)\n",
    "\n",
    "# sheduler.phases, sheduler.phase, sheduler.tot_epochs\n",
    "\n",
    "sheduler._get_lr_mom()"
   ]
  },
  {
   "cell_type": "code",
   "execution_count": 31,
   "metadata": {
    "ExecuteTime": {
     "end_time": "2020-07-22T10:24:54.130766Z",
     "start_time": "2020-07-22T10:24:54.121229Z"
    }
   },
   "outputs": [
    {
     "name": "stdout",
     "output_type": "stream",
     "text": [
      "torch.Size([16, 3, 96, 96])\n",
      "torch.Size([3, 96, 96])\n"
     ]
    }
   ],
   "source": [
    "from src.data import crop_patches\n",
    "\n",
    "target = torch.rand(4, 3, 128, 128)\n",
    "target_patches = crop_patches(target, size=96, stride=32)\n",
    "print(target_patches.shape)\n",
    "\n",
    "dataset = torch.utils.data.TensorDataset(target_patches)\n",
    "print(dataset[0][0].shape)"
   ]
  },
  {
   "cell_type": "code",
   "execution_count": 26,
   "metadata": {
    "ExecuteTime": {
     "end_time": "2020-07-22T09:27:17.754968Z",
     "start_time": "2020-07-22T09:27:17.748068Z"
    }
   },
   "outputs": [
    {
     "data": {
      "text/plain": [
       "PSNR()"
      ]
     },
     "execution_count": 26,
     "metadata": {},
     "output_type": "execute_result"
    }
   ],
   "source": [
    "class PSNR(torch.nn.modules.loss._Loss):\n",
    "    def __init(self, data_range=1.0, reduction='mean', convert_to_greyscale: bool = False):\n",
    "        super().__init__()\n",
    "        \n",
    "        self.metric = functools.partial(\n",
    "            piq.psnr, data_range=data_range, reduction=reduction, convert_to_greyscale=convert_to_greyscale)\n",
    "\n",
    "    def forward(self, prediction: torch.Tensor, target: torch.Tensor):\n",
    "        self.metric(prediction, target)\n",
    "\n",
    "\n",
    "kwargs = {'data_range': 1.0, 'convert_to_greyscale': False},\n",
    "PSNR(kwargs)"
   ]
  },
  {
   "cell_type": "code",
   "execution_count": 24,
   "metadata": {
    "ExecuteTime": {
     "end_time": "2020-07-22T07:18:35.880350Z",
     "start_time": "2020-07-22T07:18:35.869249Z"
    }
   },
   "outputs": [
    {
     "ename": "TypeError",
     "evalue": "issubclass() arg 1 must be a class",
     "output_type": "error",
     "traceback": [
      "\u001b[0;31m---------------------------------------------------------------------------\u001b[0m",
      "\u001b[0;31mTypeError\u001b[0m                                 Traceback (most recent call last)",
      "\u001b[0;32m<ipython-input-24-615ce959ff06>\u001b[0m in \u001b[0;36m<module>\u001b[0;34m\u001b[0m\n\u001b[1;32m      1\u001b[0m \u001b[0missubclass\u001b[0m\u001b[0;34m(\u001b[0m\u001b[0mpiq\u001b[0m\u001b[0;34m.\u001b[0m\u001b[0mGMSDLoss\u001b[0m\u001b[0;34m,\u001b[0m \u001b[0mtorch\u001b[0m\u001b[0;34m.\u001b[0m\u001b[0mnn\u001b[0m\u001b[0;34m.\u001b[0m\u001b[0mmodules\u001b[0m\u001b[0;34m.\u001b[0m\u001b[0mloss\u001b[0m\u001b[0;34m.\u001b[0m\u001b[0m_Loss\u001b[0m\u001b[0;34m)\u001b[0m\u001b[0;34m\u001b[0m\u001b[0;34m\u001b[0m\u001b[0m\n\u001b[0;32m----> 2\u001b[0;31m \u001b[0missubclass\u001b[0m\u001b[0;34m(\u001b[0m\u001b[0mpiq\u001b[0m\u001b[0;34m.\u001b[0m\u001b[0mfsim\u001b[0m\u001b[0;34m,\u001b[0m \u001b[0mtorch\u001b[0m\u001b[0;34m.\u001b[0m\u001b[0mnn\u001b[0m\u001b[0;34m.\u001b[0m\u001b[0mmodules\u001b[0m\u001b[0;34m.\u001b[0m\u001b[0mloss\u001b[0m\u001b[0;34m.\u001b[0m\u001b[0m_Loss\u001b[0m\u001b[0;34m)\u001b[0m\u001b[0;34m\u001b[0m\u001b[0;34m\u001b[0m\u001b[0m\n\u001b[0m",
      "\u001b[0;31mTypeError\u001b[0m: issubclass() arg 1 must be a class"
     ]
    }
   ],
   "source": [
    "issubclass(piq.GMSDLoss, torch.nn.modules.loss._Loss)\n",
    "issubclass(piq.fsim, torch.nn.modules.loss._Loss)"
   ]
  },
  {
   "cell_type": "code",
   "execution_count": 45,
   "metadata": {
    "ExecuteTime": {
     "end_time": "2020-07-23T08:20:32.604205Z",
     "start_time": "2020-07-23T08:20:32.599787Z"
    }
   },
   "outputs": [
    {
     "data": {
      "text/plain": [
       "torch.Size([2, 3, 4, 4, 1])"
      ]
     },
     "execution_count": 45,
     "metadata": {},
     "output_type": "execute_result"
    }
   ],
   "source": [
    "a = torch.rand(2, 3, 4, 4, 2)\n",
    "res = torch.split(a, split_size_or_sections=1, dim=4)\n",
    "res[1].shape"
   ]
  },
  {
   "cell_type": "code",
   "execution_count": 15,
   "metadata": {
    "ExecuteTime": {
     "end_time": "2020-07-22T07:11:49.947120Z",
     "start_time": "2020-07-22T07:11:49.940629Z"
    }
   },
   "outputs": [],
   "source": [
    "piq.multi_scale_ssim?"
   ]
  },
  {
   "cell_type": "code",
   "execution_count": 13,
   "metadata": {
    "ExecuteTime": {
     "end_time": "2020-07-22T06:59:38.273860Z",
     "start_time": "2020-07-22T06:59:37.949935Z"
    }
   },
   "outputs": [
    {
     "data": {
      "text/plain": [
       "tensor(0.)"
      ]
     },
     "execution_count": 13,
     "metadata": {},
     "output_type": "execute_result"
    }
   ],
   "source": [
    "prediction = torch.rand(4, 3, 128, 128)\n",
    "piq.MultiScaleGMSDLoss()(prediction, prediction)"
   ]
  },
  {
   "cell_type": "code",
   "execution_count": 4,
   "metadata": {
    "ExecuteTime": {
     "end_time": "2020-07-21T13:46:41.932086Z",
     "start_time": "2020-07-21T13:46:41.885686Z"
    }
   },
   "outputs": [],
   "source": [
    "piq.ContentLoss?"
   ]
  },
  {
   "cell_type": "code",
   "execution_count": 2,
   "metadata": {
    "ExecuteTime": {
     "end_time": "2020-07-15T08:53:33.248382Z",
     "start_time": "2020-07-15T08:53:33.245013Z"
    }
   },
   "outputs": [
    {
     "data": {
      "text/plain": [
       "'model_3_0.23.chpn'"
      ]
     },
     "execution_count": 2,
     "metadata": {},
     "output_type": "execute_result"
    }
   ],
   "source": [
    "a = \"model_{ep}_{metric:.2f}.chpn\"\n",
    "a.format(ep=3, metric=0.234556436)"
   ]
  },
  {
   "cell_type": "code",
   "execution_count": 12,
   "metadata": {
    "ExecuteTime": {
     "end_time": "2020-07-22T06:24:23.281249Z",
     "start_time": "2020-07-22T06:24:23.276839Z"
    }
   },
   "outputs": [
    {
     "data": {
      "text/plain": [
       "{'layers': ['conv1_2', 'conv2_2', 'conv3_4', 'conv4_4', 'conv5_4'],\n",
       " 'weights': [0.2, 0.2, 0.2, 0.2, 0.2],\n",
       " 'normalize_features': True,\n",
       " 'reduction': 'none'}"
      ]
     },
     "execution_count": 12,
     "metadata": {},
     "output_type": "execute_result"
    }
   ],
   "source": [
    "kwargs = {\n",
    "    \"feature_extractor\": 'vgg19',\n",
    "    \"layers\": ['conv1_2', 'conv2_2', 'conv3_4', 'conv4_4', 'conv5_4'],\n",
    "    \"weights\": [0.2, 0.2, 0.2, 0.2, 0.2],\n",
    "    \"normalize_features\": True,\n",
    "    \"reduction\": 'none',\n",
    "}\n",
    "\n",
    "kwargs.pop(\"feature_extractor\")\n",
    "kwargs"
   ]
  },
  {
   "cell_type": "code",
   "execution_count": 9,
   "metadata": {
    "ExecuteTime": {
     "end_time": "2020-07-22T06:14:42.113170Z",
     "start_time": "2020-07-22T06:14:42.102662Z"
    }
   },
   "outputs": [
    {
     "ename": "AttributeError",
     "evalue": "type object 'str' has no attribute 'includes'",
     "output_type": "error",
     "traceback": [
      "\u001b[0;31m---------------------------------------------------------------------------\u001b[0m",
      "\u001b[0;31mAttributeError\u001b[0m                            Traceback (most recent call last)",
      "\u001b[0;32m<ipython-input-9-04a120d41193>\u001b[0m in \u001b[0;36m<module>\u001b[0;34m\u001b[0m\n\u001b[1;32m      1\u001b[0m \u001b[0mname\u001b[0m \u001b[0;34m=\u001b[0m \u001b[0;34m\"content\"\u001b[0m\u001b[0;34m\u001b[0m\u001b[0;34m\u001b[0m\u001b[0m\n\u001b[0;32m----> 2\u001b[0;31m \u001b[0mstr\u001b[0m\u001b[0;34m.\u001b[0m\u001b[0mincludes\u001b[0m\u001b[0;34m(\u001b[0m\u001b[0;34m'good'\u001b[0m\u001b[0;34m)\u001b[0m\u001b[0;34m\u001b[0m\u001b[0;34m\u001b[0m\u001b[0m\n\u001b[0m\u001b[1;32m      3\u001b[0m \u001b[0;31m# if name in [\"content\", \"style\"]:\u001b[0m\u001b[0;34m\u001b[0m\u001b[0;34m\u001b[0m\u001b[0;34m\u001b[0m\u001b[0m\n\u001b[1;32m      4\u001b[0m \u001b[0;31m#     print(\"Yes\")\u001b[0m\u001b[0;34m\u001b[0m\u001b[0;34m\u001b[0m\u001b[0;34m\u001b[0m\u001b[0m\n",
      "\u001b[0;31mAttributeError\u001b[0m: type object 'str' has no attribute 'includes'"
     ]
    }
   ],
   "source": [
    "name = \"content\"\n",
    "str.includes('good')\n",
    "# if name in [\"content\", \"style\"]:\n",
    "#     print(\"Yes\")"
   ]
  },
  {
   "cell_type": "code",
   "execution_count": 19,
   "metadata": {
    "ExecuteTime": {
     "end_time": "2020-07-20T10:09:48.312072Z",
     "start_time": "2020-07-20T10:09:48.308606Z"
    }
   },
   "outputs": [
    {
     "data": {
      "text/plain": [
       "['ssim', {'kernel_size': 7}, 'ms_ssim', {'kernel_size': 7}, 'psnr', {}]"
      ]
     },
     "execution_count": 19,
     "metadata": {},
     "output_type": "execute_result"
    }
   ],
   "source": [
    "# piq.SSIMLoss?\n",
    "eval('[\"ssim\", {\"kernel_size\" : 7}, \"ms_ssim\", {\"kernel_size\" : 7}, \"psnr\", {}, ]')"
   ]
  },
  {
   "cell_type": "code",
   "execution_count": 13,
   "metadata": {
    "ExecuteTime": {
     "end_time": "2020-07-20T08:18:07.067688Z",
     "start_time": "2020-07-20T08:18:07.063531Z"
    }
   },
   "outputs": [
    {
     "ename": "SyntaxError",
     "evalue": "invalid syntax (<ipython-input-13-762d806b0f6f>, line 13)",
     "output_type": "error",
     "traceback": [
      "\u001b[0;36m  File \u001b[0;32m\"<ipython-input-13-762d806b0f6f>\"\u001b[0;36m, line \u001b[0;32m13\u001b[0m\n\u001b[0;31m    [m.name=n for (m, n) in zip(metrics, metric_names)]\u001b[0m\n\u001b[0m           ^\u001b[0m\n\u001b[0;31mSyntaxError\u001b[0m\u001b[0;31m:\u001b[0m invalid syntax\n"
     ]
    }
   ],
   "source": [
    "class A:\n",
    "    _folder = \"A\"\n",
    "    def forward(self, i):\n",
    "        return self._folder + str(i)\n",
    "\n",
    "metrics = [A(), A(), A(), A()]\n",
    "metric_names = [\"A\", \"a\", \"AA\", \"aa\"]\n",
    "\n",
    "for metric, name in zip(metrics, metric_names):\n",
    "    metric.name = name\n",
    "    \n",
    "\n",
    "[m.name=n for (m, n) in zip(metrics, metric_names)]\n",
    "metrics[0].name"
   ]
  },
  {
   "cell_type": "code",
   "execution_count": null,
   "metadata": {},
   "outputs": [],
   "source": [
    "        # DummyAverageMeter is added to the end, so just delete last part\n",
    "        counter = 0\n",
    "        for i, metric in enumerate(self.state.metric_meters):\n",
    "            if isinstance(metric, AverageMeter):\n",
    "                metric.reset()\n",
    "            else:\n",
    "                counter += 1\n",
    "        self.state.metric_meters = self.state.metric_meters[:-counter]"
   ]
  },
  {
   "cell_type": "code",
   "execution_count": 67,
   "metadata": {
    "ExecuteTime": {
     "end_time": "2020-07-24T12:08:24.473959Z",
     "start_time": "2020-07-24T12:08:24.470943Z"
    }
   },
   "outputs": [
    {
     "name": "stdout",
     "output_type": "stream",
     "text": [
      "functools.partial(<function vif_p at 0x7f59f1780d08>, reduction='none') test\n"
     ]
    }
   ],
   "source": [
    "reduction = 'none'\n",
    "f = functools.partial(piq.vif_p, reduction=reduction)\n",
    "f.name = \"test\"\n",
    "print(f, f.name)"
   ]
  },
  {
   "cell_type": "code",
   "execution_count": 62,
   "metadata": {
    "ExecuteTime": {
     "end_time": "2020-07-24T12:02:14.696380Z",
     "start_time": "2020-07-24T12:02:14.691286Z"
    }
   },
   "outputs": [
    {
     "name": "stdout",
     "output_type": "stream",
     "text": [
      "[<__main__.A object at 0x7f59d08592e8>, <__main__.A object at 0x7f59d0859860>, <__main__.B object at 0x7f59d08597f0>, <__main__.B object at 0x7f59d08598d0>, <__main__.B object at 0x7f59d0859898>, <__main__.A object at 0x7f59d0859828>]\n",
      "A reseted\n",
      "A reseted\n",
      "A reseted\n",
      "[<__main__.A object at 0x7f59d08592e8>, <__main__.A object at 0x7f59d0859860>, <__main__.A object at 0x7f59d0859828>]\n"
     ]
    }
   ],
   "source": [
    "class A():\n",
    "    def reset(self):\n",
    "        print(\"A reseted\")\n",
    "\n",
    "\n",
    "class B():\n",
    "    def reset(self):\n",
    "        print(\"B reseted\")\n",
    "\n",
    "class State:\n",
    "    def __init__(self, metric_meters):\n",
    "        self.metric_meters = metric_meters\n",
    "\n",
    "metric_meters = [A(), A(), B(), B(), B(), A()]\n",
    "print(metric_meters)\n",
    "state = State(metric_meters)\n",
    "\n",
    "state.metric_meters = [m for m in state.metric_meters if isinstance(m, A)]\n",
    "for metric in state.metric_meters:\n",
    "    metric.reset()\n",
    "\n",
    "# omelist = [x for x in somelist if not determine(x)]\n",
    "\n",
    "# for i, metric in enumerate(state.metric_meters):\n",
    "#     if isinstance(metric, A):\n",
    "#         metric.reset()\n",
    "#     elif isinstance(metric, B):\n",
    "#         print(\"Deleting B\")\n",
    "#         del state.metric_meters[i]\n",
    "print(state.metric_meters)\n",
    "        \n",
    "    "
   ]
  },
  {
   "cell_type": "code",
   "execution_count": 51,
   "metadata": {
    "ExecuteTime": {
     "end_time": "2020-07-24T11:27:05.290690Z",
     "start_time": "2020-07-24T11:27:05.215448Z"
    }
   },
   "outputs": [
    {
     "data": {
      "text/plain": [
       "tensor(7.7687)"
      ]
     },
     "execution_count": 51,
     "metadata": {},
     "output_type": "execute_result"
    }
   ],
   "source": [
    "import functools\n",
    "METRIC_FROM_NAME = {\n",
    "    # Full Reference\n",
    "    \"psnr\": functools.partial(\n",
    "        piq.psnr),\n",
    "}\n",
    "\n",
    "def get_metric(name, reduction='none'):\n",
    "    metric = METRIC_FROM_NAME[name]\n",
    "    return functools.partial(metric, reduction=reduction)\n",
    "    \n",
    "prediction = torch.rand(4, 3, 128, 128)\n",
    "target = torch.rand(4, 3, 128, 128)\n",
    "\n",
    "get_metric(\"psnr\")(prediction, target)"
   ]
  },
  {
   "cell_type": "code",
   "execution_count": 55,
   "metadata": {
    "ExecuteTime": {
     "end_time": "2020-07-24T11:41:02.240900Z",
     "start_time": "2020-07-24T11:40:56.629790Z"
    }
   },
   "outputs": [],
   "source": [
    "a = [piq.ContentLoss(), piq.StyleLoss(), piq.LPIPS(), piq.DISTS(), piq.GMSDLoss()]"
   ]
  },
  {
   "cell_type": "code",
   "execution_count": null,
   "metadata": {},
   "outputs": [],
   "source": [
    "[07-24 20:48] - Best loss: 0.0394\n",
    "[07-24 20:48] - Best psnr: 25.0806\n",
    "[07-24 20:48] - Best ssim: 0.7546\n",
    "[07-24 20:48] - Best ms-ssim: 0.9332\n",
    "[07-24 20:48] - Best gmsd: 0.0846\n",
    "[07-24 20:48] - Best ms-gmsd: 0.0816\n",
    "[07-24 20:48] - Best ms-gmsdc: 0.0681\n",
    "[07-24 20:48] - Best fsim: 0.8802\n",
    "[07-24 20:48] - Best fsimc: 0.8744\n",
    "[07-24 20:48] - Best vsi: 0.9544\n",
    "[07-24 20:48] - Best mdsi: 0.4146\n",
    "[07-24 20:48] - Best vifp: 0.9085\n",
    "[07-24 20:48] - Best content_vgg16: 0.2474\n",
    "[07-24 20:48] - Best content_vgg19: 0.2679\n",
    "[07-24 20:48] - Best content_vgg16_ap: 0.2176\n",
    "[07-24 20:48] - Best content_vgg19_ap: 0.2257\n",
    "[07-24 20:48] - Best style_vgg16: 9222874.0769\n",
    "[07-24 20:48] - Best style_vgg19: 7961090.4615\n",
    "[07-24 20:48] - Best lpips: 0.2275\n",
    "[07-24 20:48] - Best dists: 0.1868\n",
    "[07-24 20:48] - Best brisque: 37.7652"
   ]
  },
  {
   "cell_type": "code",
   "execution_count": 56,
   "metadata": {
    "ExecuteTime": {
     "end_time": "2020-07-24T11:41:02.246334Z",
     "start_time": "2020-07-24T11:41:02.243134Z"
    }
   },
   "outputs": [
    {
     "name": "stdout",
     "output_type": "stream",
     "text": [
      "True\n",
      "True\n",
      "True\n",
      "True\n",
      "False\n"
     ]
    }
   ],
   "source": [
    "for l in a:\n",
    "    print(isinstance(l, piq.ContentLoss))"
   ]
  },
  {
   "cell_type": "code",
   "execution_count": 5,
   "metadata": {
    "ExecuteTime": {
     "end_time": "2020-07-20T07:32:54.274125Z",
     "start_time": "2020-07-20T07:32:54.268974Z"
    }
   },
   "outputs": [
    {
     "data": {
      "text/plain": [
       "('A3', 'B4')"
      ]
     },
     "execution_count": 5,
     "metadata": {},
     "output_type": "execute_result"
    }
   ],
   "source": [
    "class A:\n",
    "    _folder = \"A\"\n",
    "    def forward(self, i):\n",
    "        return self._folder + str(i)\n",
    "    \n",
    "class B(A):\n",
    "    _folder = \"B\"\n",
    "    def forward(self, i):\n",
    "        res = super().forward(i)\n",
    "        return res\n",
    "\n",
    "a = A()\n",
    "b = B()\n",
    "a.forward(3), b.forward(4)"
   ]
  },
  {
   "cell_type": "code",
   "execution_count": 14,
   "metadata": {
    "ExecuteTime": {
     "end_time": "2020-07-15T14:02:46.744191Z",
     "start_time": "2020-07-15T14:02:46.416599Z"
    }
   },
   "outputs": [
    {
     "data": {
      "text/plain": [
       "tensor(120.5809)"
      ]
     },
     "execution_count": 14,
     "metadata": {},
     "output_type": "execute_result"
    }
   ],
   "source": []
  },
  {
   "cell_type": "code",
   "execution_count": 4,
   "metadata": {
    "ExecuteTime": {
     "end_time": "2020-07-14T08:39:49.121725Z",
     "start_time": "2020-07-14T08:39:49.117641Z"
    }
   },
   "outputs": [
    {
     "data": {
      "text/plain": [
       "False"
      ]
     },
     "execution_count": 4,
     "metadata": {},
     "output_type": "execute_result"
    }
   ],
   "source": [
    "a = [1, 2]\n",
    "b = [3, 4]\n",
    "c = [5, 6, 4]\n",
    "len(a) == len(b) == len(c) == 2"
   ]
  },
  {
   "cell_type": "code",
   "execution_count": 21,
   "metadata": {
    "ExecuteTime": {
     "end_time": "2020-07-14T12:59:49.074029Z",
     "start_time": "2020-07-14T12:59:49.069789Z"
    }
   },
   "outputs": [
    {
     "data": {
      "text/plain": [
       "'a|b'"
      ]
     },
     "execution_count": 21,
     "metadata": {},
     "output_type": "execute_result"
    }
   ],
   "source": [
    "\"|\".join([\"a\", \"b\"])\n"
   ]
  },
  {
   "cell_type": "code",
   "execution_count": 14,
   "metadata": {
    "ExecuteTime": {
     "end_time": "2020-07-14T11:47:41.686176Z",
     "start_time": "2020-07-14T11:47:41.674246Z"
    }
   },
   "outputs": [
    {
     "data": {
      "text/plain": [
       "[[{'ep': [0, 8], 'lr': [0, 0.1], 'mom': [0.9], 'mode': 'linear'},\n",
       "  {'ep': [8, 24], 'lr': [0.1, 0.01], 'mode': 'cos', 'mom': []},\n",
       "  {'ep': [24, 30], 'lr': [0.001], 'mom': []}]]"
      ]
     },
     "execution_count": 14,
     "metadata": {},
     "output_type": "execute_result"
    }
   ],
   "source": [
    "from pytorch_tools.utils.misc import listify\n",
    "PHASES = {\n",
    "    \"generator\": \n",
    "        [{\"ep\":[0,8],  \"lr\":[0,0.1], \"mom\":0.9, },\n",
    "        {\"ep\":[8,24], \"lr\":[0.1, 0.01], \"mode\":\"cos\"},\n",
    "        {'ep':[24, 30], \"lr\": 0.001}],\n",
    "    \"discriminator\": \n",
    "        [{\"ep\":[0,8],  \"lr\":[0,0.1], \"mom\":0.9, },\n",
    "        {\"ep\":[8,24], \"lr\":[0.1, 0.01], \"mode\":\"cos\"},\n",
    "        {'ep':[24, 30], \"lr\": 0.001}],\n",
    "}\n",
    "\n",
    "def _format_phase(phase):\n",
    "    phase[\"ep\"] = listify(phase[\"ep\"])\n",
    "    phase[\"lr\"] = listify(phase[\"lr\"])\n",
    "    phase[\"mom\"] = listify(phase.get(\"mom\", None))  # optional\n",
    "    if len(phase[\"lr\"]) == 2 or len(phase[\"mom\"]) == 2:\n",
    "        phase[\"mode\"] = phase.get(\"mode\", \"linear\")\n",
    "        assert len(phase[\"ep\"]) == 2, \"Linear learning rates must contain end epoch\"\n",
    "    return phase\n",
    "\n",
    "# [_format_phase(p) for p in PHASES[\"generator\"]]\n",
    "list(map(_format_phase, PHASES[\"generator\"]))\n"
   ]
  },
  {
   "cell_type": "code",
   "execution_count": 15,
   "metadata": {
    "ExecuteTime": {
     "end_time": "2020-07-16T07:33:27.838433Z",
     "start_time": "2020-07-16T07:33:27.833360Z"
    }
   },
   "outputs": [
    {
     "name": "stdout",
     "output_type": "stream",
     "text": [
      "torch.Size([30, 256]) torch.Size([20, 256])\n"
     ]
    }
   ],
   "source": [
    "feature = torch.rand(10, 256)\n",
    "prediction_features = [feature, feature, feature]\n",
    "target_features = [feature, feature]\n",
    "\n",
    "prediction_features = torch.cat(prediction_features, dim=0)\n",
    "target_features = torch.cat(target_features, dim=0)\n",
    "\n",
    "print(prediction_features.shape, target_features.shape)"
   ]
  },
  {
   "cell_type": "code",
   "execution_count": 16,
   "metadata": {
    "ExecuteTime": {
     "end_time": "2020-07-14T11:50:27.443418Z",
     "start_time": "2020-07-14T11:50:27.439726Z"
    }
   },
   "outputs": [
    {
     "data": {
      "text/plain": [
       "{'a': None, 'b': None}"
      ]
     },
     "execution_count": 16,
     "metadata": {},
     "output_type": "execute_result"
    }
   ],
   "source": [
    "NAMES = ['a', 'b']\n",
    "\n",
    "c = \n",
    "c"
   ]
  }
 ],
 "metadata": {
  "kernelspec": {
   "display_name": "Python 3",
   "language": "python",
   "name": "python3"
  },
  "language_info": {
   "codemirror_mode": {
    "name": "ipython",
    "version": 3
   },
   "file_extension": ".py",
   "mimetype": "text/x-python",
   "name": "python",
   "nbconvert_exporter": "python",
   "pygments_lexer": "ipython3",
   "version": "3.6.9"
  }
 },
 "nbformat": 4,
 "nbformat_minor": 2
}
